{
  "nbformat": 4,
  "nbformat_minor": 0,
  "metadata": {
    "colab": {
      "provenance": []
    },
    "kernelspec": {
      "name": "python3",
      "display_name": "Python 3"
    },
    "language_info": {
      "name": "python"
    }
  },
  "cells": [
    {
      "cell_type": "code",
      "execution_count": 36,
      "metadata": {
        "id": "bsu324wlh29H",
        "colab": {
          "base_uri": "https://localhost:8080/"
        },
        "outputId": "c64d2148-92f3-46a1-dda2-858423048482"
      },
      "outputs": [
        {
          "output_type": "stream",
          "name": "stdout",
          "text": [
            "Drive already mounted at /drive; to attempt to forcibly remount, call drive.mount(\"/drive\", force_remount=True).\n",
            "         TEL\n",
            "ENTRADA     \n",
            "2        1.0\n",
            "10       1.0\n",
            "24       1.0\n",
            "25       1.0\n",
            "30       1.0\n",
            "...      ...\n",
            "712      1.0\n",
            "749      1.0\n",
            "1000     1.0\n",
            "1222     1.0\n",
            "1300     1.0\n",
            "\n",
            "[126 rows x 1 columns]\n"
          ]
        }
      ],
      "source": [
        "import pandas as pd\n",
        "from google.colab import drive\n",
        "import numpy as np\n",
        "\n",
        "\n",
        "drive.mount('/drive')\n",
        "\n",
        "planilha = pd.read_csv('/drive/MyDrive/class_analise_credito.csv')\n",
        "planilha.drop(planilha[planilha[\"ENTRADA\"] == 0].index, inplace=True)\n",
        "\n",
        "#display(planilha)\n",
        "\n",
        "media = planilha[\"ENTRADA\"]\n",
        "plan_nova = planilha\n",
        "\n",
        "plan_nova.drop(plan_nova[abs(plan_nova[\"ENTRADA\"] - media) > 30].index, inplace=True)\n",
        "plan_nova = plan_nova.drop(['ESTC','TIPOR', 'VBEM','VPARC', 'IDADE', 'RESMS', 'target'], axis=1)\n",
        "plan_nova.insert(5, 'RENDA - TEL', ((plan_nova['RENDA'] - plan_nova['TEL']) * 0.5).astype(float))\n",
        "plan_nova.reindex(np.random.permutation(planilha.index))\n",
        "plan_nova = plan_nova.sort_values(by='RENDA', ascending=True) #organiza os elementos por renda em ordem crescente\n",
        "#display(plan_nova)\n",
        "\n",
        "dataf_novo = plan_nova.groupby('ENTRADA')[['TEL']].count()\n",
        "\n",
        "display(dataf_novo)\n",
        "\n",
        "plan_nova.to_csv('/drive/MyDrive/plan_nova.csv')\n",
        "plan_nova.to_json('/drive/MyDrive/plan_nova.json')\n",
        "\n",
        "\n",
        "#verificando se há strings na planilha; não há\n",
        "#for el in plan_nova:\n",
        "#  if type(el) == str:\n",
        "#    print(el)\n",
        "\n"
      ]
    },
    {
      "cell_type": "code",
      "source": [],
      "metadata": {
        "id": "dDdmvE1WBBHw"
      },
      "execution_count": null,
      "outputs": []
    }
  ]
}